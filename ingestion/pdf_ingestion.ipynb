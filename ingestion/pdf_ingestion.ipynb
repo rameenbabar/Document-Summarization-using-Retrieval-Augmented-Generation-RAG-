{
 "cells": [
  {
   "cell_type": "code",
   "execution_count": null,
   "id": "4bf89c09",
   "metadata": {
    "vscode": {
     "languageId": "plaintext"
    }
   },
   "outputs": [],
   "source": [
    "import asyncio\n",
    "from langchain.document_loaders import PyPDFLoader\n",
    "from langchain_community.document_loaders import UnstructuredPDFLoader\n",
    "from langchain_core.messages import HumanMessage\n",
    "from langchain_openai import OpenAIEmbeddings\n",
    "from langchain_qdrant import FastEmbedSparse, QdrantVectorStore, RetrievalMode\n",
    "from qdrant_client import QdrantClient, models\n",
    "from qdrant_client.http.models import Distance, SparseVectorParams, VectorParams\n",
    "from langchain_experimental.text_splitter import SemanticChunker\n",
    "from langchain_openai.embeddings import OpenAIEmbeddings\n",
    "from pi_heif import register_heif_opener\n",
    "import os\n",
    "import logging"
   ]
  },
  {
   "cell_type": "code",
   "execution_count": null,
   "id": "472ecff8",
   "metadata": {
    "vscode": {
     "languageId": "plaintext"
    }
   },
   "outputs": [],
   "source": [
    "pdf_path = r\"C:\\Users\\Lenovo\\Desktop\\rameen\\AnnualReport.pdf\"\n",
    "loader = UnstructuredPDFLoader(pdf_path)\n",
    "pages = loader.load()"
   ]
  },
  {
   "cell_type": "code",
   "execution_count": null,
   "id": "83ed809d",
   "metadata": {
    "vscode": {
     "languageId": "plaintext"
    }
   },
   "outputs": [],
   "source": [
    "print(f\"Total pages: {len(pages)}\\n\")\n",
    "\n",
    "for page in pages[1:5]:\n",
    "    print(\"Metadata:\", page.metadata)\n",
    "    print()\n",
    "    print(page.page_content[:500], \"…\\n\")\n",
    "\n",
    "logging.getLogger(\"pdfminer\").setLevel(logging.ERROR)\n"
   ]
  },
  {
   "cell_type": "code",
   "execution_count": null,
   "id": "edc98e70",
   "metadata": {
    "vscode": {
     "languageId": "plaintext"
    }
   },
   "outputs": [],
   "source": [
    "os.environ[\"OPENAI_API_KEY\"] = \"\""
   ]
  },
  {
   "cell_type": "code",
   "execution_count": null,
   "id": "0ce918e8",
   "metadata": {
    "vscode": {
     "languageId": "plaintext"
    }
   },
   "outputs": [],
   "source": [
    "page_text = pages[0].page_content\n",
    "\n",
    "text_splitter = SemanticChunker(\n",
    "    OpenAIEmbeddings(), breakpoint_threshold_type=\"percentile\", breakpoint_threshold_amount=95.0\n",
    ")"
   ]
  },
  {
   "cell_type": "code",
   "execution_count": null,
   "id": "72c81129",
   "metadata": {
    "vscode": {
     "languageId": "plaintext"
    }
   },
   "outputs": [],
   "source": [
    "chunked_docs = text_splitter.create_documents([page_text])\n",
    "\n",
    "'''for i, doc in enumerate(chunked_docs[:20], start=1):\n",
    "    print(f\"--- Chunk {i} ---\")\n",
    "    print(doc.page_content)\n",
    "    print()'''\n",
    "\n",
    "print(f\"Total semantic chunks: {len(chunked_docs)}\\n\")"
   ]
  },
  {
   "cell_type": "code",
   "execution_count": null,
   "id": "f817c556",
   "metadata": {
    "vscode": {
     "languageId": "plaintext"
    }
   },
   "outputs": [],
   "source": [
    "QDRANT_URL=\"\"\n",
    "QDRANT_API_KEY=\"\"\n",
    "os.environ[\"OPENAI_API_KEY\"] = \"\"\n",
    "dense_embeddings = OpenAIEmbeddings(model=\"text-embedding-3-large\")\n",
    "sparse_embeddings = FastEmbedSparse(model_name=\"Qdrant/bm25\")\n",
    "qdrant = QdrantVectorStore.from_documents(\n",
    "    chunked_docs,\n",
    "    dense_embeddings,\n",
    "    sparse_embedding=sparse_embeddings,\n",
    "    retrieval_mode=RetrievalMode.HYBRID,\n",
    "    url=QDRANT_URL,\n",
    "    prefer_grpc=True,\n",
    "    api_key=QDRANT_API_KEY,\n",
    "    collection_name=\"annualreport\",\n",
    ")"
   ]
  }
 ],
 "metadata": {
  "language_info": {
   "name": "python"
  }
 },
 "nbformat": 4,
 "nbformat_minor": 5
}
